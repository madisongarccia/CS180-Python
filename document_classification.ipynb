{
  "nbformat": 4,
  "nbformat_minor": 0,
  "metadata": {
    "colab": {
      "provenance": []
    },
    "kernelspec": {
      "name": "python3",
      "display_name": "Python 3"
    },
    "language_info": {
      "name": "python"
    }
  },
  "cells": [
    {
      "cell_type": "markdown",
      "source": [
        "<a href=\"https://colab.research.google.com/github/porterjenkins/CS180/blob/main/data_science_labs/data_science_lab_11.ipynb\" target=\"_parent\"><img src=\"https://colab.research.google.com/assets/colab-badge.svg\" alt=\"Open In Colab\"/></a><p><b>After clicking the \"Open in Colab\" link, copy the notebook to your own Google Drive before getting started, or it will not save your work</b></p>"
      ],
      "metadata": {
        "id": "IPir_6bCCFnZ"
      }
    },
    {
      "cell_type": "markdown",
      "source": [
        "# BYU CS 180 Lab 11"
      ],
      "metadata": {
        "id": "_slaQdUGCB0t"
      }
    },
    {
      "cell_type": "code",
      "source": [
        "# Dependencies for the lab\n",
        "import numpy as np\n",
        "import matplotlib.pyplot as plt\n",
        "import pandas as pd\n",
        "import sklearn"
      ],
      "metadata": {
        "id": "Gaema31vjP8f"
      },
      "execution_count": 2,
      "outputs": []
    },
    {
      "cell_type": "markdown",
      "source": [
        "## Introduction:\n",
        "You will use the `sklearn` API to train various classifiers. Feel free to use any `sklearn`, `numpy`, or `pandas` function to help you with the lab.\n",
        "\n",
        "The 20 newsgroups dataset comprises around 18000 newsgroups posts on 20 topics. The 20 categories are:\n",
        "```\n",
        "['alt.atheism',\n",
        " 'comp.graphics',\n",
        " 'comp.os.ms-windows.misc',\n",
        " 'comp.sys.ibm.pc.hardware',\n",
        " 'comp.sys.mac.hardware',\n",
        " 'comp.windows.x',\n",
        " 'misc.forsale',\n",
        " 'rec.autos',\n",
        " 'rec.motorcycles',\n",
        " 'rec.sport.baseball',\n",
        " 'rec.sport.hockey',\n",
        " 'sci.crypt',\n",
        " 'sci.electronics',\n",
        " 'sci.med',\n",
        " 'sci.space',\n",
        " 'soc.religion.christian',\n",
        " 'talk.politics.guns',\n",
        " 'talk.politics.mideast',\n",
        " 'talk.politics.misc',\n",
        " 'talk.religion.misc']\n",
        "```\n",
        "The posts are raw text. For example:\n",
        "\n",
        "**Post:**\n",
        "```\n",
        "From: lerxst@wam.umd.edu (where's my thing)\n",
        "Subject: WHAT car is this!?\n",
        "Nntp-Posting-Host: rac3.wam.umd.edu\n",
        "Organization: University of Maryland, College Park\n",
        "Lines: 15\n",
        "\n",
        " I was wondering if anyone out there could enlighten me on this car I saw\n",
        "the other day. It was a 2-door sports car, looked to be from the late 60s/\n",
        "early 70s. It was called a Bricklin. The doors were really small. In addition,\n",
        "the front bumper was separate from the rest of the body. This is \n",
        "all I know. If anyone can tellme a model name, engine specs, years\n",
        "of production, where this car is made, history, or whatever info you\n",
        "have on this funky looking car, please e-mail.\n",
        "\n",
        "Thanks,\n",
        "- IL\n",
        "   ---- brought to you by your neighborhood Lerxst ----\n",
        "```\n",
        "\n",
        "**Target:**\n",
        "```\n",
        "'rec.autos'\n",
        "```\n",
        "\n",
        "Your task will be to build a classifier to predict the category of posts. You will do the following in this notebook:"
      ],
      "metadata": {
        "id": "ct7fnkcnCL8O"
      }
    },
    {
      "cell_type": "markdown",
      "source": [
        "## Exercise 1: Retrieve the Data\n",
        "Download `fetch_20newsgroups` dataset"
      ],
      "metadata": {
        "id": "PUat5xRAcdrC"
      }
    },
    {
      "cell_type": "code",
      "source": [
        "from sklearn.datasets import fetch_20newsgroups\n",
        "data = fetch_20newsgroups()\n",
        "docs = data['data']\n",
        "targets = data[\"target\"]\n",
        "names = data.target_names"
      ],
      "metadata": {
        "id": "j1m2KIHShNdC"
      },
      "execution_count": 3,
      "outputs": []
    },
    {
      "cell_type": "markdown",
      "source": [
        "Print off the first document and its target classification to make sure its been downloaded correctly "
      ],
      "metadata": {
        "id": "BXDLQKs3hUM8"
      }
    },
    {
      "cell_type": "code",
      "source": [
        "print(docs[0])\n",
        "print(names[targets[0]])"
      ],
      "metadata": {
        "id": "-hfFbcRohgMf",
        "colab": {
          "base_uri": "https://localhost:8080/"
        },
        "outputId": "d996a81d-c302-4f68-a040-767bf145d765"
      },
      "execution_count": 4,
      "outputs": [
        {
          "output_type": "stream",
          "name": "stdout",
          "text": [
            "From: lerxst@wam.umd.edu (where's my thing)\n",
            "Subject: WHAT car is this!?\n",
            "Nntp-Posting-Host: rac3.wam.umd.edu\n",
            "Organization: University of Maryland, College Park\n",
            "Lines: 15\n",
            "\n",
            " I was wondering if anyone out there could enlighten me on this car I saw\n",
            "the other day. It was a 2-door sports car, looked to be from the late 60s/\n",
            "early 70s. It was called a Bricklin. The doors were really small. In addition,\n",
            "the front bumper was separate from the rest of the body. This is \n",
            "all I know. If anyone can tellme a model name, engine specs, years\n",
            "of production, where this car is made, history, or whatever info you\n",
            "have on this funky looking car, please e-mail.\n",
            "\n",
            "Thanks,\n",
            "- IL\n",
            "   ---- brought to you by your neighborhood Lerxst ----\n",
            "\n",
            "\n",
            "\n",
            "\n",
            "\n",
            "rec.autos\n"
          ]
        }
      ]
    },
    {
      "cell_type": "markdown",
      "source": [
        "## Exercise 2: Understand the Data"
      ],
      "metadata": {
        "id": "RSUun4WVcl17"
      }
    },
    {
      "cell_type": "markdown",
      "source": [
        "Perform some exploratory analysis on your data. Specifically, plot a bar chart showing distribution of the categories (classes)"
      ],
      "metadata": {
        "id": "xJZbee3ihnqV"
      }
    },
    {
      "cell_type": "code",
      "source": [
        "import seaborn as sns\n",
        "import numpy as np\n",
        "\n",
        "counts = np.bincount(targets)\n",
        "ax = sns.barplot(x = names, y = counts)\n",
        "ax.set_xticklabels(ax.get_xticklabels(), rotation=90)\n"
      ],
      "metadata": {
        "id": "veGuUMbEhj5-",
        "colab": {
          "base_uri": "https://localhost:8080/",
          "height": 960
        },
        "outputId": "f970f507-5e94-4b67-e1f1-f4ea6e0a8b3c"
      },
      "execution_count": 5,
      "outputs": [
        {
          "output_type": "execute_result",
          "data": {
            "text/plain": [
              "[Text(0, 0, 'alt.atheism'),\n",
              " Text(1, 0, 'comp.graphics'),\n",
              " Text(2, 0, 'comp.os.ms-windows.misc'),\n",
              " Text(3, 0, 'comp.sys.ibm.pc.hardware'),\n",
              " Text(4, 0, 'comp.sys.mac.hardware'),\n",
              " Text(5, 0, 'comp.windows.x'),\n",
              " Text(6, 0, 'misc.forsale'),\n",
              " Text(7, 0, 'rec.autos'),\n",
              " Text(8, 0, 'rec.motorcycles'),\n",
              " Text(9, 0, 'rec.sport.baseball'),\n",
              " Text(10, 0, 'rec.sport.hockey'),\n",
              " Text(11, 0, 'sci.crypt'),\n",
              " Text(12, 0, 'sci.electronics'),\n",
              " Text(13, 0, 'sci.med'),\n",
              " Text(14, 0, 'sci.space'),\n",
              " Text(15, 0, 'soc.religion.christian'),\n",
              " Text(16, 0, 'talk.politics.guns'),\n",
              " Text(17, 0, 'talk.politics.mideast'),\n",
              " Text(18, 0, 'talk.politics.misc'),\n",
              " Text(19, 0, 'talk.religion.misc')]"
            ]
          },
          "metadata": {},
          "execution_count": 5
        },
        {
          "output_type": "display_data",
          "data": {
            "text/plain": [
              "<Figure size 640x480 with 1 Axes>"
            ],
            "image/png": "[encoded data removed]"
          },
          "metadata": {}
        }
      ]
    },
    {
      "cell_type": "markdown",
      "source": [
        "## Exercise 3: Engineer the Data\n",
        "Extract features from raw text. You are free to be creative here. There is no correct answer. Try and think of the features (input) that are most predictive of the category. Some helpful sklearn feature engineering code can be found here (I'd recommend reading through the documentation before diving in and trying to get these tools to work):\n",
        "\n",
        "* [CountVectorizer](https://scikit-learn.org/stable/modules/generated/sklearn.feature_extraction.text.CountVectorizer.html#sklearn.feature_extraction.text.CountVectorizer)\n",
        "* [TFIDF Text Features](https://scikit-learn.org/stable/modules/generated/sklearn.feature_extraction.text.TfidfVectorizer.html)"
      ],
      "metadata": {
        "id": "CBmTXeqpcq5W"
      }
    },
    {
      "cell_type": "code",
      "source": [
        "#Enter code here to engineer the data\n",
        "from sklearn.feature_extraction.text import TfidfVectorizer\n",
        "from sklearn.feature_extraction.text import CountVectorizer\n",
        "vectorizer = CountVectorizer()\n",
        "X = vectorizer.fit(docs)\n",
        "vectorizer.get_feature_names_out()"
      ],
      "metadata": {
        "id": "M18gziAZifj0",
        "colab": {
          "base_uri": "https://localhost:8080/"
        },
        "outputId": "8de4dcd4-119c-4a00-a785-eca9e110df93"
      },
      "execution_count": 9,
      "outputs": [
        {
          "output_type": "execute_result",
          "data": {
            "text/plain": [
              "array(['00', '000', '0000', ..., 'íålittin', 'ñaustin', 'ýé'],\n",
              "      dtype=object)"
            ]
          },
          "metadata": {},
          "execution_count": 9
        }
      ]
    },
    {
      "cell_type": "code",
      "source": [
        "X = X.toarray()"
      ],
      "metadata": {
        "id": "TGi7MxKBVGCi"
      },
      "execution_count": 6,
      "outputs": []
    },
    {
      "cell_type": "code",
      "source": [
        "vectorizer2 = TfidfVectorizer()\n",
        "X2 = vectorizer2.fit(docs)\n",
        "vectorizer2.get_feature_names_out()"
      ],
      "metadata": {
        "colab": {
          "base_uri": "https://localhost:8080/"
        },
        "id": "Ym1cHUyGOoBl",
        "outputId": "b08f6efd-f334-4e11-da41-bb872059fbe0"
      },
      "execution_count": 10,
      "outputs": [
        {
          "output_type": "execute_result",
          "data": {
            "text/plain": [
              "array(['00', '000', '0000', ..., 'íålittin', 'ñaustin', 'ýé'],\n",
              "      dtype=object)"
            ]
          },
          "metadata": {},
          "execution_count": 10
        }
      ]
    },
    {
      "cell_type": "code",
      "source": [
        "X2 = X2.toarray()"
      ],
      "metadata": {
        "id": "pIZ0fESMWNzM"
      },
      "execution_count": null,
      "outputs": []
    },
    {
      "cell_type": "markdown",
      "source": [
        "## Exercise 4: Split the Data\n",
        "\n",
        "Split your data into train and test splits. Use an 80%/20% split rule for train and test respectively. I'd recommend using the function from the last lab"
      ],
      "metadata": {
        "id": "JN4r2NSpc5hQ"
      }
    },
    {
      "cell_type": "code",
      "source": [
        "#Enter code here to split the dataset\n",
        "from sklearn.model_selection import train_test_split\n",
        "X_train, X_test, y_train, y_test = train_test_split(docs, targets, test_size= 0.2, random_state = 42)\n"
      ],
      "metadata": {
        "id": "C6uiqrStkxww"
      },
      "execution_count": 11,
      "outputs": []
    },
    {
      "cell_type": "markdown",
      "source": [
        "## Exercise 5: Train the Model"
      ],
      "metadata": {
        "id": "eW6QTIUxcz_G"
      }
    },
    {
      "cell_type": "markdown",
      "source": [
        "Using sklearn, train the following three classifiers using the training set:\n",
        "* KNN\n",
        "* Decision Tree\n",
        "* Logistic Regression"
      ],
      "metadata": {
        "id": "mNY2czLak_pA"
      }
    },
    {
      "cell_type": "code",
      "source": [
        "# Train the model using the KNN Cluster Algorithm\n",
        "from sklearn.neighbors import KNeighborsClassifier\n",
        "train_feat = vectorizer.fit_transform(X_train)\n",
        "test_feat = vectorizer.transform(X_test)\n",
        "knn = KNeighborsClassifier(n_neighbors = 5)\n",
        "knn.fit(X=train_feat, y = y_train)\n",
        "y_hat = knn.predict(X=test_feat)"
      ],
      "metadata": {
        "id": "MIaBp38BlEzu"
      },
      "execution_count": 16,
      "outputs": []
    },
    {
      "cell_type": "code",
      "source": [
        "# Train the model using the Decision Tree Algorithm\n",
        "from sklearn import tree\n",
        "classifier = tree.DecisionTreeClassifier(\n",
        "    criterion='entropy',\n",
        "    max_depth=10,\n",
        "    splitter='best'\n",
        ")\n",
        "classifier.fit(X=train_feat, y=y_train)\n",
        "y_hat_tree = classifier.predict(test_feat)"
      ],
      "metadata": {
        "id": "xSINn2VklIH9"
      },
      "execution_count": 17,
      "outputs": []
    },
    {
      "cell_type": "code",
      "source": [
        "# Train the model using the Logistic Regression \n",
        "from sklearn.linear_model import LogisticRegression\n",
        "model = LogisticRegression(max_iter = 35)\n",
        "model.fit(train_feat, y_train)\n",
        "y_hat_log = model.predict(test_feat)"
      ],
      "metadata": {
        "id": "ZayZjHO1lNXG",
        "colab": {
          "base_uri": "https://localhost:8080/"
        },
        "outputId": "84f6f4d6-f509-4eb8-8e6f-a44f32e0c337"
      },
      "execution_count": 19,
      "outputs": [
        {
          "output_type": "stream",
          "name": "stderr",
          "text": [
            "/usr/local/lib/python3.9/dist-packages/sklearn/linear_model/_logistic.py:458: ConvergenceWarning: lbfgs failed to converge (status=1):\n",
            "STOP: TOTAL NO. of ITERATIONS REACHED LIMIT.\n",
            "\n",
            "Increase the number of iterations (max_iter) or scale the data as shown in:\n",
            "    https://scikit-learn.org/stable/modules/preprocessing.html\n",
            "Please also refer to the documentation for alternative solver options:\n",
            "    https://scikit-learn.org/stable/modules/linear_model.html#logistic-regression\n",
            "  n_iter_i = _check_optimize_result(\n"
          ]
        }
      ]
    },
    {
      "cell_type": "markdown",
      "source": [
        "## Exercise 6: Evaluate the Model\n",
        "Compare the performance of your classifiers on the test set. Discuss which one performs the best."
      ],
      "metadata": {
        "id": "gRC3UrQjdOtM"
      }
    },
    {
      "cell_type": "code",
      "source": [
        "# Evaluate the KNN Cluster model\n",
        "from sklearn.metrics import accuracy_score\n",
        "accuracy_score(y_test, y_hat)"
      ],
      "metadata": {
        "id": "fviUlnNZl_Ek",
        "colab": {
          "base_uri": "https://localhost:8080/"
        },
        "outputId": "7b7dca8f-9c57-4302-aa95-be00f4ce6902"
      },
      "execution_count": 21,
      "outputs": [
        {
          "output_type": "execute_result",
          "data": {
            "text/plain": [
              "0.482545293857711"
            ]
          },
          "metadata": {},
          "execution_count": 21
        }
      ]
    },
    {
      "cell_type": "code",
      "source": [
        "# Evaluate the Decision Tree model\n",
        "accuracy_score(y_test, y_hat_tree)"
      ],
      "metadata": {
        "id": "NFysD0Krl9-n",
        "colab": {
          "base_uri": "https://localhost:8080/"
        },
        "outputId": "fee44956-2d69-4fa6-e00c-82f421b263a6"
      },
      "execution_count": 22,
      "outputs": [
        {
          "output_type": "execute_result",
          "data": {
            "text/plain": [
              "0.312417145382236"
            ]
          },
          "metadata": {},
          "execution_count": 22
        }
      ]
    },
    {
      "cell_type": "code",
      "source": [
        "# Evaluate the Logistic Regression model\n",
        "accuracy_score(y_test, y_hat_log)"
      ],
      "metadata": {
        "id": "FVjIpzzxl8E-",
        "colab": {
          "base_uri": "https://localhost:8080/"
        },
        "outputId": "dfe8e390-31f2-4f54-b0b0-3a7b7541fcd9"
      },
      "execution_count": 23,
      "outputs": [
        {
          "output_type": "execute_result",
          "data": {
            "text/plain": [
              "0.8055678303137428"
            ]
          },
          "metadata": {},
          "execution_count": 23
        }
      ]
    },
    {
      "cell_type": "markdown",
      "source": [
        "Discuss which one performs the best:"
      ],
      "metadata": {
        "id": "ofWWlon9mqUw"
      }
    },
    {
      "cell_type": "markdown",
      "source": [
        "The logistic regression model has the highest accuracy score, so it performed the best when fitting the test set. "
      ],
      "metadata": {
        "id": "rLE2qUqpmu0P"
      }
    }
  ]
}