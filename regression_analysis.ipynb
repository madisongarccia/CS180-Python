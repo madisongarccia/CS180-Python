{
  "nbformat": 4,
  "nbformat_minor": 0,
  "metadata": {
    "colab": {
      "provenance": []
    },
    "kernelspec": {
      "name": "python3",
      "display_name": "Python 3"
    },
    "language_info": {
      "name": "python"
    }
  },
  "cells": [
    {
      "cell_type": "markdown",
      "source": [
        "<a href=\"https://colab.research.google.com/github/porterjenkins/CS180/blob/main/data_science_labs/data_science_lab_12.ipynb\" target=\"_parent\"><img src=\"https://colab.research.google.com/assets/colab-badge.svg\" alt=\"Open In Colab\"/></a><p><b>After clicking the \"Open in Colab\" link, copy the notebook to your own Google Drive before getting started, or it will not save your work</b></p>"
      ],
      "metadata": {
        "id": "IPir_6bCCFnZ"
      }
    },
    {
      "cell_type": "markdown",
      "source": [
        "# BYU CS 180 Lab 12"
      ],
      "metadata": {
        "id": "_slaQdUGCB0t"
      }
    },
    {
      "cell_type": "code",
      "source": [
        "# Dependencies for the lab\n",
        "import numpy as np\n",
        "import matplotlib.pyplot as plt\n",
        "from sklearn.linear_model import LinearRegression\n",
        "from sklearn.neighbors import KNeighborsRegressor\n",
        "from sklearn.tree import DecisionTreeRegressor\n",
        "import pandas as pd\n",
        "from sklearn.metrics import mean_squared_error\n",
        "import statsmodels.api as sm"
      ],
      "metadata": {
        "id": "Gaema31vjP8f"
      },
      "execution_count": 3,
      "outputs": []
    },
    {
      "cell_type": "markdown",
      "source": [
        "## Introduction:\n",
        "In this lab you will fit regression models on multiple datasets."
      ],
      "metadata": {
        "id": "ct7fnkcnCL8O"
      }
    },
    {
      "cell_type": "markdown",
      "source": [
        "## Exercise 1: Synthetic Data\n",
        "First we will fit a regression model to multiple variants of a synthetic dataset. In each case, we know the true parameters (slope and intercept) and we will vary the noise of the data. Execute the following code to generate the data:"
      ],
      "metadata": {
        "id": "PUat5xRAcdrC"
      }
    },
    {
      "cell_type": "code",
      "source": [
        "import numpy as np\n",
        "\n",
        "w_0_true = -2.5 # this is the TRUE intercept\n",
        "w_1_true = 0.1 # this is the TRUE slope\n",
        "\n",
        "def f_x(x, w_0, w_1, sig):\n",
        "  n = len(x)\n",
        "  y = w_1*x + w_0 + np.random.normal(0, sig, n)\n",
        "  return y\n",
        "\n",
        "x = np.arange(0, 100)\n",
        "\n",
        "\n",
        "y_1 = f_x(x, w_0_true, w_1_true, sig=0.5) # standard deviation = 0.5\n",
        "y_2 = f_x(x, w_0_true, w_1_true, sig=1.5) # standard deviation = 1.5\n",
        "y_3 = f_x(x, w_0_true, w_1_true, sig=5.0) # standard deviation = 5\n",
        "y_4 = f_x(x, w_0_true, w_1_true, sig=10.0) # standard deviation = 10"
      ],
      "metadata": {
        "id": "wgyxUegDs57G"
      },
      "execution_count": 2,
      "outputs": []
    },
    {
      "cell_type": "markdown",
      "source": [
        "### Question 1a:\n",
        "For each of the four datasets we generated do the following:\n",
        "\n",
        "* Plot a scatter plot of `x` and `y_i` (e.g, `x` and `y_2`)\n",
        "\n",
        "* Fit a [linear regression model](https://scikit-learn.org/stable/modules/generated/sklearn.linear_model.LinearRegression.html) using sklearn (sklearn.linear_model.LinearRegression )\n",
        "\n",
        "  * Make sure `fit_intercept` is set to `True`\n",
        "\n",
        "  * hint: sklearn expects the features to be two-dimensional. You many need to use the following code to reshape your `x` array when training:\n",
        "\n",
        "```\n",
        "  reg = LinearRegression(fit_intercept=True)\n",
        "  reg.fit(x.reshape(-1, 1), y) # reshape x to be two-dimensional\n",
        "```\n",
        "* Print the estimated coefficients:\n",
        "\n",
        "  * These can be accessed with the `coef_` and `intercept_` attributes on the regression object\n",
        "\n",
        "* Plot the regression line on the scatter plots of `x` and `y`\n",
        "\n",
        "Comment on how well the regression model approximates the data"
      ],
      "metadata": {
        "id": "NdAGXZPYtCVW"
      }
    },
    {
      "cell_type": "code",
      "source": [
        "plt.scatter(x, y_1)\n",
        "reg1 = LinearRegression(fit_intercept=True)\n",
        "reg1.fit(x.reshape(-1,1), y_1)\n",
        "print(reg1.coef_)\n",
        "print(reg1.intercept_)\n",
        "results = sm.OLS(y_1, x).fit()\n",
        "slope_hat = results.params[0]\n",
        "x_grid = np.linspace(x.min(), x.max())\n",
        "y_hat = x_grid*slope_hat\n",
        "plt.plot(x_grid, y_hat)"
      ],
      "metadata": {
        "colab": {
          "base_uri": "https://localhost:8080/",
          "height": 484
        },
        "id": "N02ZRw_yMC2Y",
        "outputId": "4373f7c7-8b05-4286-c561-1035ec2c5189"
      },
      "execution_count": 29,
      "outputs": [
        {
          "output_type": "stream",
          "name": "stdout",
          "text": [
            "[0.09918634]\n",
            "-2.536535205908829\n"
          ]
        },
        {
          "output_type": "execute_result",
          "data": {
            "text/plain": [
              "[<matplotlib.lines.Line2D at 0x7ff920c3d250>]"
            ]
          },
          "metadata": {},
          "execution_count": 29
        },
        {
          "output_type": "display_data",
          "data": {
            "text/plain": [
              "<Figure size 640x480 with 1 Axes>"
            ],
            "image/png": "[encoded data removed]"
          },
          "metadata": {}
        }
      ]
    },
    {
      "cell_type": "markdown",
      "source": [
        "Doesn't fit the data super well, there are a lot of outliers on the bottom left. "
      ],
      "metadata": {
        "id": "MaJPmHaMiarz"
      }
    },
    {
      "cell_type": "code",
      "source": [
        "plt.scatter(x, y_2)\n",
        "reg2 = LinearRegression(fit_intercept=True)\n",
        "reg2.fit(x.reshape(-1, 1), y_2)\n",
        "print(reg2.coef_)\n",
        "print(reg2.intercept_)\n",
        "results = sm.OLS(y_2, x).fit()\n",
        "slope_hat = results.params[0]\n",
        "x_grid = np.linspace(x.min(), x.max())\n",
        "y_hat = x_grid*slope_hat\n",
        "plt.plot(x_grid, y_hat)"
      ],
      "metadata": {
        "colab": {
          "base_uri": "https://localhost:8080/",
          "height": 484
        },
        "id": "tarv7uRweMO1",
        "outputId": "b6bbbbe8-70ae-40c2-db99-001ea7d8d2dc"
      },
      "execution_count": 30,
      "outputs": [
        {
          "output_type": "stream",
          "name": "stdout",
          "text": [
            "[0.09716908]\n",
            "-2.540408747673234\n"
          ]
        },
        {
          "output_type": "execute_result",
          "data": {
            "text/plain": [
              "[<matplotlib.lines.Line2D at 0x7ff920cac7c0>]"
            ]
          },
          "metadata": {},
          "execution_count": 30
        },
        {
          "output_type": "display_data",
          "data": {
            "text/plain": [
              "<Figure size 640x480 with 1 Axes>"
            ],
            "image/png": "[encoded data removed]"
          },
          "metadata": {}
        }
      ]
    },
    {
      "cell_type": "markdown",
      "source": [
        "Still outliers on the bottom left and top right"
      ],
      "metadata": {
        "id": "TqY2OFrFih-e"
      }
    },
    {
      "cell_type": "code",
      "source": [
        "plt.scatter(x, y_3)\n",
        "reg3 = LinearRegression(fit_intercept=True)\n",
        "reg3.fit(x.reshape(-1, 1), y_3)\n",
        "print(reg3.coef_)\n",
        "print(reg3.intercept_)\n",
        "results = sm.OLS(y_3, x).fit()\n",
        "slope_hat = results.params[0]\n",
        "x_grid = np.linspace(x.min(), x.max())\n",
        "y_hat = x_grid*slope_hat\n",
        "plt.plot(x_grid, y_hat)"
      ],
      "metadata": {
        "colab": {
          "base_uri": "https://localhost:8080/",
          "height": 484
        },
        "id": "d2NnZiTeekgv",
        "outputId": "538b8941-327b-4dbf-884f-9f36854bbfa4"
      },
      "execution_count": 31,
      "outputs": [
        {
          "output_type": "stream",
          "name": "stdout",
          "text": [
            "[0.10690438]\n",
            "-2.154302950221789\n"
          ]
        },
        {
          "output_type": "execute_result",
          "data": {
            "text/plain": [
              "[<matplotlib.lines.Line2D at 0x7ff920d3e460>]"
            ]
          },
          "metadata": {},
          "execution_count": 31
        },
        {
          "output_type": "display_data",
          "data": {
            "text/plain": [
              "<Figure size 640x480 with 1 Axes>"
            ],
            "image/png": "[encoded data removed]"
          },
          "metadata": {}
        }
      ]
    },
    {
      "cell_type": "markdown",
      "source": [
        "This data shows a weak linear relationship, so the model can't represent it too well."
      ],
      "metadata": {
        "id": "AtkydmKsilyU"
      }
    },
    {
      "cell_type": "code",
      "source": [
        "plt.scatter(x, y_4)\n",
        "reg4 = LinearRegression(fit_intercept=True)\n",
        "reg4.fit(x.reshape(-1, 1), y_4)\n",
        "print(reg4.coef_)\n",
        "print(reg4.intercept_)\n",
        "results = sm.OLS(y_4, x).fit()\n",
        "slope_hat = results.params[0]\n",
        "x_grid = np.linspace(x.min(), x.max())\n",
        "y_hat = x_grid*slope_hat\n",
        "plt.plot(x_grid, y_hat)"
      ],
      "metadata": {
        "colab": {
          "base_uri": "https://localhost:8080/",
          "height": 484
        },
        "id": "r5VBRICqeoLg",
        "outputId": "e12ddfab-15dd-428d-a7c7-f1f1b2b8a3f0"
      },
      "execution_count": 32,
      "outputs": [
        {
          "output_type": "stream",
          "name": "stdout",
          "text": [
            "[0.07176042]\n",
            "-0.7880191967244286\n"
          ]
        },
        {
          "output_type": "execute_result",
          "data": {
            "text/plain": [
              "[<matplotlib.lines.Line2D at 0x7ff920f9bdf0>]"
            ]
          },
          "metadata": {},
          "execution_count": 32
        },
        {
          "output_type": "display_data",
          "data": {
            "text/plain": [
              "<Figure size 640x480 with 1 Axes>"
            ],
            "image/png": "[encoded data removed]"
          },
          "metadata": {}
        }
      ]
    },
    {
      "cell_type": "markdown",
      "source": [
        "This data shows an even weaker linear relationship so the model does a poor job of representing the data. "
      ],
      "metadata": {
        "id": "VkLyXbPjis2Y"
      }
    },
    {
      "cell_type": "markdown",
      "source": [
        "### Question 1b:\n",
        "\n",
        "What do you observe as we add noise to our generated dataset? How well are we able to recover the true parameters, `w_0_true` and `w_1_true` from the data as noise increases?"
      ],
      "metadata": {
        "id": "ezTGk3qzw6qC"
      }
    },
    {
      "cell_type": "markdown",
      "source": [
        "As noise is added, the data moves further and further away from the model. We can recover the true parameters by increasing the accuracy of np.linspace. "
      ],
      "metadata": {
        "id": "JD4s8NkhxCsF"
      }
    },
    {
      "cell_type": "markdown",
      "source": [
        "# Exercise 2\n",
        "Read the California Housing Data from the `sample_data` on every collab instance:"
      ],
      "metadata": {
        "id": "2haBwY12xHdB"
      }
    },
    {
      "cell_type": "code",
      "source": [
        "import pandas as pd\n",
        "train = pd.read_csv(\"sample_data/california_housing_train.csv\")\n",
        "test = pd.read_csv(\"sample_data/california_housing_test.csv\")"
      ],
      "metadata": {
        "id": "DoL6tiKMxpn7"
      },
      "execution_count": 2,
      "outputs": []
    },
    {
      "cell_type": "markdown",
      "source": [
        "This dataset contains features on census tracts in California in the early 1990’s. The target is the variable `median_house_value` of each census tract."
      ],
      "metadata": {
        "id": "zEiUroYyxtlC"
      }
    },
    {
      "cell_type": "markdown",
      "source": [
        "### Exercise 2a:\n",
        "Plot a [scatter_plot matrix](https://pandas.pydata.org/pandas-docs/stable/reference/api/pandas.plotting.scatter_matrix.html) using the training data. You may need to tune the `fig_size` argument to make the figure larger. "
      ],
      "metadata": {
        "id": "mcEiKgcxxwyw"
      }
    },
    {
      "cell_type": "code",
      "source": [
        "pd.plotting.scatter_matrix(train, figsize = (12,12))"
      ],
      "metadata": {
        "id": "EieD2s8byLgt"
      },
      "execution_count": null,
      "outputs": []
    },
    {
      "cell_type": "markdown",
      "source": [
        "What variables appear to be correlated with `median_house_value`?"
      ],
      "metadata": {
        "id": "Qomi7e6yyEEh"
      }
    },
    {
      "cell_type": "markdown",
      "source": [
        "> median_income, lat and long coords"
      ],
      "metadata": {
        "id": "RtFISgwsyNyY"
      }
    },
    {
      "cell_type": "markdown",
      "source": [
        "What variables are not correlated with `median_house_value`?"
      ],
      "metadata": {
        "id": "soyZfoFdyF3G"
      }
    },
    {
      "cell_type": "markdown",
      "source": [
        "> housing_med_age, total_rooms, total_bedrooms, pop, households, "
      ],
      "metadata": {
        "id": "okhRuaEtyRKg"
      }
    },
    {
      "cell_type": "markdown",
      "source": [
        "What features appear to be correlated with each other?"
      ],
      "metadata": {
        "id": "TQW2x9qByIUY"
      }
    },
    {
      "cell_type": "markdown",
      "source": [
        "> total_rooms with households, total_bedrooms and population\n",
        "lat and long\n",
        "total_bedrooms with household\n"
      ],
      "metadata": {
        "id": "VvGuKTHXyYe_"
      }
    },
    {
      "cell_type": "markdown",
      "source": [
        "### Exercise 2b\n",
        "Fit a linear regression model using `sklearn`.\n",
        "* Fit a few different models (each with different features).\n",
        "* Evaluate the [mean_squared_error](https://scikit-learn.org/stable/modules/model_evaluation.html#mean-squared-error) of your models with both the training and test set."
      ],
      "metadata": {
        "id": "aJ2gcLdQyi7M"
      }
    },
    {
      "cell_type": "code",
      "source": [
        "feat = ['latitude', 'longitude', 'median_income']\n",
        "X_train = train[feat]\n",
        "y_train = train[\"median_house_value\"]\n",
        "X_test = test[feat]\n",
        "y_test = test[\"median_house_value\"]\n",
        "model = LinearRegression().fit(X_train, y_train)\n",
        "y_pred = model.predict(X_test)\n",
        "x_pred = model.predict(X_train)\n",
        "mse_y = mean_squared_error(y_test.values, y_pred)\n",
        "mse_x = mse = mean_squared_error(y_train.values, x_pred)\n",
        "print(f'test: {mse_y}, train: {mse_x}')"
      ],
      "metadata": {
        "id": "qfm8NUxsy3WD",
        "colab": {
          "base_uri": "https://localhost:8080/"
        },
        "outputId": "5aecbb68-18a8-4ea7-ffea-9fc0e2463c92"
      },
      "execution_count": 7,
      "outputs": [
        {
          "output_type": "stream",
          "name": "stdout",
          "text": [
            "test: 5520546528.355815, train: 5535438821.879477\n"
          ]
        }
      ]
    },
    {
      "cell_type": "code",
      "source": [
        "feat2 = ['median_income', 'housing_median_age']\n",
        "X_train = train[feat2]\n",
        "y_train = train[\"median_house_value\"]\n",
        "X_test = test[feat2]\n",
        "y_test = test[\"median_house_value\"]\n",
        "model = LinearRegression().fit(X_train, y_train)\n",
        "y_pred = model.predict(X_test)\n",
        "x_pred = model.predict(X_train)\n",
        "mse_y = mean_squared_error(y_test.values, y_pred)\n",
        "mse_x = mse = mean_squared_error(y_train.values, x_pred)\n",
        "print(f'test: {mse_y}, train: {mse_x}')"
      ],
      "metadata": {
        "colab": {
          "base_uri": "https://localhost:8080/"
        },
        "id": "5BcueBpvn-VH",
        "outputId": "ffdd5bfa-4efd-4f21-b639-7b0f135676a0"
      },
      "execution_count": 8,
      "outputs": [
        {
          "output_type": "stream",
          "name": "stdout",
          "text": [
            "test: 6542597407.100302, train: 6535814191.460647\n"
          ]
        }
      ]
    },
    {
      "cell_type": "code",
      "source": [
        "feat3 = ['latitude', 'longitude', 'housing_median_age', 'total_rooms', 'median_income', 'population']\n",
        "X_train = train[feat3]\n",
        "y_train = train[\"median_house_value\"]\n",
        "X_test = test[feat3]\n",
        "y_test = test[\"median_house_value\"]\n",
        "model = LinearRegression().fit(X_train, y_train)\n",
        "y_pred = model.predict(X_test)\n",
        "x_pred = model.predict(X_train)\n",
        "mse_y = mean_squared_error(y_test.values, y_pred)\n",
        "mse_x = mse = mean_squared_error(y_train.values, x_pred)\n",
        "print(f'test: {mse_y}, train: {mse_x}')"
      ],
      "metadata": {
        "colab": {
          "base_uri": "https://localhost:8080/"
        },
        "id": "g5V1FgZ2jtZH",
        "outputId": "9cf86414-1418-4c51-867a-0bf68fa6c9a0"
      },
      "execution_count": 9,
      "outputs": [
        {
          "output_type": "stream",
          "name": "stdout",
          "text": [
            "test: 5138248476.985099, train: 5182741638.603556\n"
          ]
        }
      ]
    },
    {
      "cell_type": "markdown",
      "source": [
        "What did you observe? Which model yields the lowest test error?"
      ],
      "metadata": {
        "id": "NXTMPY6NzShb"
      }
    },
    {
      "cell_type": "markdown",
      "source": [
        "> the error for all the training data is higher than the test, which can suggest the model is overfitting the data. The model with the lowest error is the third across all variables. "
      ],
      "metadata": {
        "id": "pjIx8Lh9zWH6"
      }
    },
    {
      "cell_type": "markdown",
      "source": [
        "### Exercise 2c\n",
        "Fit a linear regression using the `statsmodels` api.\n",
        "* Print the model output using `print(results.summary())`"
      ],
      "metadata": {
        "id": "7PsfUy3Izc0Q"
      }
    },
    {
      "cell_type": "code",
      "source": [
        "X = train[[\"longitude\", \"latitude\", \"housing_median_age\", \"total_rooms\", \"total_bedrooms\", \"population\", \"households\", \"median_income\"]]\n",
        "y = train[\"median_house_value\"]\n",
        "result = sm.OLS(y, X).fit()\n",
        "print(result.summary())"
      ],
      "metadata": {
        "id": "aQEoQKtT0F2W",
        "colab": {
          "base_uri": "https://localhost:8080/"
        },
        "outputId": "fdc50559-e8ca-4a93-f286-426f78464d6a"
      },
      "execution_count": 47,
      "outputs": [
        {
          "output_type": "stream",
          "name": "stdout",
          "text": [
            "                                 OLS Regression Results                                \n",
            "=======================================================================================\n",
            "Dep. Variable:     median_house_value   R-squared (uncentered):                   0.901\n",
            "Model:                            OLS   Adj. R-squared (uncentered):              0.901\n",
            "Method:                 Least Squares   F-statistic:                          1.927e+04\n",
            "Date:                Thu, 13 Apr 2023   Prob (F-statistic):                        0.00\n",
            "Time:                        17:21:21   Log-Likelihood:                     -2.1492e+05\n",
            "No. Observations:               17000   AIC:                                  4.298e+05\n",
            "Df Residuals:                   16992   BIC:                                  4.299e+05\n",
            "Df Model:                           8                                                  \n",
            "Covariance Type:            nonrobust                                                  \n",
            "======================================================================================\n",
            "                         coef    std err          t      P>|t|      [0.025      0.975]\n",
            "--------------------------------------------------------------------------------------\n",
            "longitude          -2242.3547    119.100    -18.828      0.000   -2475.802   -2008.907\n",
            "latitude           -8474.2259    377.129    -22.470      0.000   -9213.438   -7735.013\n",
            "housing_median_age  1786.1485     49.565     36.036      0.000    1688.995    1883.301\n",
            "total_rooms          -15.3597      0.918    -16.723      0.000     -17.160     -13.559\n",
            "total_bedrooms        79.9623      8.246      9.697      0.000      63.799      96.125\n",
            "population           -39.9046      1.277    -31.238      0.000     -42.409     -37.401\n",
            "households           133.1703      8.918     14.932      0.000     115.689     150.651\n",
            "median_income       4.584e+04    381.200    120.249      0.000    4.51e+04    4.66e+04\n",
            "==============================================================================\n",
            "Omnibus:                     3565.084   Durbin-Watson:                   1.154\n",
            "Prob(Omnibus):                  0.000   Jarque-Bera (JB):            12369.583\n",
            "Skew:                           1.040   Prob(JB):                         0.00\n",
            "Kurtosis:                       6.624   Cond. No.                     3.00e+03\n",
            "==============================================================================\n",
            "\n",
            "Notes:\n",
            "[1] R² is computed without centering (uncentered) since the model does not contain a constant.\n",
            "[2] Standard Errors assume that the covariance matrix of the errors is correctly specified.\n",
            "[3] The condition number is large,  3e+03. This might indicate that there are\n",
            "strong multicollinearity or other numerical problems.\n"
          ]
        }
      ]
    },
    {
      "cell_type": "markdown",
      "source": [
        "Comment on which features appear to have the strongest relationship with `median_house_value`?"
      ],
      "metadata": {
        "id": "VfMAhsYlzuBR"
      }
    },
    {
      "cell_type": "markdown",
      "source": [
        "> The features that seem to have the strongest relationship with median_house_value are median_income, longitude, latitude, and housing_median_age. "
      ],
      "metadata": {
        "id": "e63Ev6eg0NOV"
      }
    },
    {
      "cell_type": "markdown",
      "source": [
        "Write a sentence interpreting the coefficient for `median_income`."
      ],
      "metadata": {
        "id": "2bon361C0WYx"
      }
    },
    {
      "cell_type": "markdown",
      "source": [
        "> The coefficient for median_income in the linear regression model is 40,310, so for every increase by one in median income, we would expect median_house_value to increase by $40,301. \n",
        "\n",
        "\n"
      ],
      "metadata": {
        "id": "_YFKpYMP0ZKG"
      }
    }
  ]
}